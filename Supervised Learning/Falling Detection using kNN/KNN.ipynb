{
  "nbformat": 4,
  "nbformat_minor": 0,
  "metadata": {
    "colab": {
      "name": "KNN.ipynb",
      "provenance": [],
      "collapsed_sections": []
    },
    "kernelspec": {
      "name": "python3",
      "display_name": "Python 3"
    },
    "language_info": {
      "name": "python"
    }
  },
  "cells": [
    {
      "cell_type": "code",
      "metadata": {
        "id": "j6dXE11cQ6g2"
      },
      "source": [
        "# Example of making predictions\n",
        "from math import sqrt"
      ],
      "execution_count": 1,
      "outputs": []
    },
    {
      "cell_type": "code",
      "metadata": {
        "id": "72n4dy_GQ-Pd"
      },
      "source": [
        "# calculate the Euclidean distance between two vectors\n",
        "# Euclidean Distance = sqrt(sum i to N (x1_i – x2_i)^2)\n",
        "def euclidean_distance(row1, row2):\n",
        "\tdistance = 0.0\n",
        "\tfor i in range(len(row1)-1):\n",
        "\t\tdistance += (row1[i] - row2[i])**2\n",
        "\treturn sqrt(distance)\n",
        " "
      ],
      "execution_count": 2,
      "outputs": []
    },
    {
      "cell_type": "code",
      "metadata": {
        "id": "xTXoMf73RBjH"
      },
      "source": [
        "# Locate the most similar neighbors\n",
        "def get_neighbors(train, test_row, num_neighbors):\n",
        "\tdistances = list()\n",
        "\tfor train_row in train:\n",
        "\t\tdist = euclidean_distance(test_row, train_row)\n",
        "\t\tdistances.append((train_row, dist))\n",
        "\tdistances.sort(key=lambda tup: tup[1])\n",
        "\tneighbors = list()\n",
        "\tfor i in range(num_neighbors):\n",
        "\t\tneighbors.append(distances[i][0])\n",
        "\treturn neighbors"
      ],
      "execution_count": 3,
      "outputs": []
    },
    {
      "cell_type": "code",
      "metadata": {
        "id": "b8izhoVTRDR8"
      },
      "source": [
        "  # Make a classification prediction with neighbors\n",
        "# - test_row is row [7, 6, 5, 5, 6, 7]\n",
        "# - num_neighbors is 3\n",
        "def predict_classification(train, test_row, num_neighbors):\n",
        "\tneighbors = get_neighbors(train, test_row, num_neighbors)\n",
        "\toutput_values = [row[-1] for row in neighbors]\n",
        "\tprediction = max(set(output_values), key=output_values.count)\n",
        "\treturn prediction"
      ],
      "execution_count": 4,
      "outputs": []
    },
    {
      "cell_type": "code",
      "metadata": {
        "colab": {
          "base_uri": "https://localhost:8080/"
        },
        "id": "5oHAGF0BRJ9p",
        "outputId": "cc5f7ea7-c18f-43bb-dd0e-bf6c4636d0dd"
      },
      "source": [
        "# Test distance function\n",
        "# Fall (+) is represented as 0, and Not Fall (-) as 1\n",
        "dataset = [[1, 2, 3, 2, 1, 3, 1],\n",
        "\t[2, 1, 3, 3, 1, 2, 1],\n",
        "\t[1, 1, 2, 3, 2, 2, 1],\n",
        "\t[2, 2, 3, 3, 2, 1, 1],\n",
        "\t[6, 5, 7, 5, 6, 7, 0],\n",
        "\t[5, 6, 6, 6, 5, 7, 0],\n",
        "\t[5, 6, 7, 5, 7, 6, 0],\n",
        "\t[7, 6, 7, 6, 5, 6, 0]]\n",
        "\n",
        "target =  [7, 6, 5, 5, 6, 7]\n",
        "prediction = predict_classification(dataset, target, 3)\n",
        "#    Expected 0, Got 0.\n",
        "print('Expected %d, Got %d.' % ([7, 6, 5, 5, 6, 7, 0][-1], prediction))"
      ],
      "execution_count": 5,
      "outputs": [
        {
          "output_type": "stream",
          "text": [
            "Expected 0, Got 0.\n"
          ],
          "name": "stdout"
        }
      ]
    }
  ]
}